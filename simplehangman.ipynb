{
 "cells": [
  {
   "attachments": {},
   "cell_type": "markdown",
   "metadata": {},
   "source": [
    "# Simple Hangman Game "
   ]
  },
  {
   "cell_type": "code",
   "execution_count": 1,
   "metadata": {},
   "outputs": [],
   "source": [
    "import random\n",
    "import sys"
   ]
  },
  {
   "cell_type": "code",
   "execution_count": 45,
   "metadata": {},
   "outputs": [
    {
     "name": "stdout",
     "output_type": "stream",
     "text": [
      "the length of string is 10\n",
      "The character in index is 3 is o\n",
      "The character in index is 2 is p\n",
      "The character in index is 9 is y\n",
      "#\n",
      "#\n",
      "p\n",
      "o\n",
      "#\n",
      "#\n",
      "#\n",
      "#\n",
      "#\n",
      "y\n",
      "['o', 'p', 'y']\n",
      "['o', 'p', 'y', 'o', 'p', 'y']\n",
      "['o', 'p', 'y', 'o', 'p', 'y', 'o', 'p', 'y']\n",
      "['o', 'p', 'y', 'o', 'p', 'y', 'o', 'p', 'y', 'o', 'p', 'y']\n",
      "['o', 'p', 'y', 'o', 'p', 'y', 'o', 'p', 'y', 'o', 'p', 'y', 'o', 'p', 'y']\n",
      "['o', 'p', 'y', 'o', 'p', 'y', 'o', 'p', 'y', 'o', 'p', 'y', 'o', 'p', 'y', 'o', 'p', 'y']\n",
      "['o', 'p', 'y', 'o', 'p', 'y', 'o', 'p', 'y', 'o', 'p', 'y', 'o', 'p', 'y', 'o', 'p', 'y', 'o', 'p', 'y']\n",
      "['o', 'p', 'y', 'o', 'p', 'y', 'o', 'p', 'y', 'o', 'p', 'y', 'o', 'p', 'y', 'o', 'p', 'y', 'o', 'p', 'y', 'o', 'p', 'y']\n",
      "['o', 'p', 'y', 'o', 'p', 'y', 'o', 'p', 'y', 'o', 'p', 'y', 'o', 'p', 'y', 'o', 'p', 'y', 'o', 'p', 'y', 'o', 'p', 'y', 'o', 'p', 'y']\n",
      "['o', 'p', 'y', 'o', 'p', 'y', 'o', 'p', 'y', 'o', 'p', 'y', 'o', 'p', 'y', 'o', 'p', 'y', 'o', 'p', 'y', 'o', 'p', 'y', 'o', 'p', 'y', 'o', 'p', 'y']\n"
     ]
    }
   ],
   "source": [
    "given_name = \"repository\"\n",
    "\n",
    "length = len(given_name)\n",
    "\n",
    "total_char = []\n",
    "\n",
    "length_round = round(0.3*length)\n",
    "\n",
    "print(\"the length of string is\", length)\n",
    "\n",
    "ind = random.sample(range(0,length),length_round)\n",
    "\n",
    "for i in ind:\n",
    "    print(\"The character in index is {} is {}\".format(i,given_name[i]))\n",
    "    \n",
    "display = length*'#'\n",
    "\n",
    "for i in range(0,length):\n",
    "    if i in ind:\n",
    "        print(given_name[i])\n",
    "        \n",
    "    else:\n",
    "        print(display[i])\n",
    "        \n",
    "for i in range(0,length):\n",
    "    for i in ind:\n",
    "        char= given_name[i]\n",
    "        total_char.append(char) \n",
    "    print(total_char)\n"
   ]
  },
  {
   "cell_type": "code",
   "execution_count": 15,
   "metadata": {},
   "outputs": [],
   "source": [
    "given_name_unique= set(given_name)\n",
    "\n",
    "freq={}\n",
    "for i in given_name_unique:\n",
    "    a=given_name.count(i)\n",
    "    if a==1:\n",
    "        continue\n",
    "        freq[i]=a\n",
    "        \n",
    "freq_key=freq.keys()        "
   ]
  },
  {
   "cell_type": "code",
   "execution_count": null,
   "metadata": {},
   "outputs": [],
   "source": [
    "used_char=[]\n",
    "find_var_index=[]\n",
    "cont=0\n",
    "for i in range(0,15):\n",
    "    guessed_char=input(\"Enter the character you have gussed !\\n\")\n",
    "    if guessed_char in given_name:\n",
    "        if guessed_char in used_char:\n",
    "            print(\"Hey! you have already guessed the character\")\n",
    "            continue\n",
    "            \n",
    "        used_char.append(guessed_char)   \n",
    "        def charposition(str,char):\n",
    "            position=[]\n",
    "            for n in range(len(str)):\n",
    "                if str[n]==char:\n",
    "                    position.append(n)\n",
    "                return position\n",
    "            find_var=charposition(given_name,guessed_char)\n",
    "            print(find_var)\n",
    "            for i in range(0,length):\n",
    "                if i in find_var:\n",
    "                    print(\"The character in index {} is {}\".format(i,given_name[i]))\n",
    "                    total_char.append(given_name[i])\n",
    "                    find_var_index.append(i)\n",
    "                    \n",
    "                    \n",
    "            for i in range(0,length):\n",
    "                if i in find_var_index or i in ind:\n",
    "                    print(given_name[i])\n",
    "                else:\n",
    "                    print(display[i])\n",
    "        \n",
    "    else:\n",
    "        print(\"You could not guess the correct word !\")\n",
    "        count=count+1\n",
    "        used_char.append(guessed_char)\n",
    "        if(count==5):\n",
    "            print(\"You couldn't complete the game\")\n",
    "            break \n",
    "                \n",
    "    print(total_char)    \n",
    "    count_guessed=0\n",
    "    for i in range(0,length):\n",
    "        if(given_name[i] in total_char):\n",
    "            count_guessed=count_guessed+1\n",
    "                    \n",
    "        if(count_guessed==length and [freq[i]<total_char.count(i) for i in freq_key]):\n",
    "                print(\"You have completed the word! Congratulations!\")\n",
    "                sys.exist(\"You won!\")\n",
    "                        \n",
    "                \n",
    "                    \n",
    "            "
   ]
  },
  {
   "cell_type": "code",
   "execution_count": null,
   "metadata": {},
   "outputs": [],
   "source": [
    "print(\"Oi\")"
   ]
  },
  {
   "cell_type": "code",
   "execution_count": null,
   "metadata": {},
   "outputs": [],
   "source": []
  }
 ],
 "metadata": {
  "kernelspec": {
   "display_name": "Python 3",
   "language": "python",
   "name": "python3"
  },
  "language_info": {
   "codemirror_mode": {
    "name": "ipython",
    "version": 3
   },
   "file_extension": ".py",
   "mimetype": "text/x-python",
   "name": "python",
   "nbconvert_exporter": "python",
   "pygments_lexer": "ipython3",
   "version": "3.7.6"
  }
 },
 "nbformat": 4,
 "nbformat_minor": 4
}
